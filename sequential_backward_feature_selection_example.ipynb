{
 "cells": [
  {
   "cell_type": "markdown",
   "metadata": {},
   "source": [
    "## Sequential Backward Feature Selector\n",
    "Sequential backward selection is a greedy search algorithm that tries to reduce the initial feature space to a reduced feature subspace.\n",
    "The motivation for performing this feature reduction is to remove the less important features from the feature space. It will automatically selects a subsets of features that are a better predictors of the target variable. This will results in reducing the complexity and computational performance of the model and more importantly, improves the generalization performance of the model. This is specially helpful for the models that don't support regularization like K-Nearest Neighborhood algorithms."
   ]
  },
  {
   "cell_type": "markdown",
   "metadata": {},
   "source": [
    "### Implementation\n",
    "We start with the full set of available features in the dataset and then sequentially remove the number of features until we reach to a desired number of features.\n",
    "After reducing the number of features, we try every possible combination set of remaining features and then keep the combination that results in the highest score.\n",
    "\n",
    "For example if the initial feature space has 5 features (0,1,2,3,4) and we want to reduce it 4 :\n",
    "\n",
    "Initial feature space: \n",
    "\n",
    "(0,1,2,3,4)\n",
    "\n",
    "Here is the possible combination of 4 features from our initial 5 feature space along with their accuracy:\n",
    "\n",
    "| Combinations | Accuracy |\n",
    "|--------------|----------|\n",
    "| (0,1,2,3)    | 0.93     |\n",
    "| (0,1,2,4)    | 0.92     |\n",
    "| (0,1,3,4)    | 0.85     |\n",
    "| (0,2,3,4)    | 0.95    |\n",
    "| (1,2,3,4)    | 0.88     |\n",
    "\n",
    "\n",
    "<br>\n",
    "\n",
    "We fit the estimator using a training set that only has the selected feature in each combination and calculate the score accuracy. The combination with the highest score is selected as the best features for this reduced subspace. We use this and go to the next step to reduce the features again : \n",
    "So, from the previous step (0,2,3,4) had the highest score :\n",
    "\n",
    "Initial feature set: \n",
    "(0,2,3,4) \n",
    "\n",
    "\n",
    "Here is the possible combination of 3 features from our initial 4 feature space along with their accuracy:\n",
    "\n",
    "| Combinations | Accuracy |\n",
    "|--------------|----------|\n",
    "| (0,2,3)      | 0.95     |\n",
    "| (0,2,4)      | 0.94     |\n",
    "| (0,3,4)      | 0.97     |\n",
    "| (2,3,4)      | 0.96     |\n",
    "\n",
    "\n",
    "We can see that the accuracy (cross validation) has increased in our reduced subspace which could be due to the reduction in the over-fitting.\n",
    "\n",
    "Let's see all of this in action by running the model on an actual dataset:\n"
   ]
  },
  {
   "cell_type": "code",
   "execution_count": 37,
   "metadata": {},
   "outputs": [],
   "source": [
    "\"\"\"\n",
    "Created on Sat May 9 11:35:12 2020\n",
    "@author: Mahmood Khordoo\n",
    "https://github.com/khordoo\n",
    "\"\"\"\n",
    "from itertools import combinations\n",
    "from sklearn.model_selection import cross_val_score\n",
    "\n",
    "\n",
    "class SequentialBackwardSelector:\n",
    "    \"\"\"\n",
    "    Sequential backward selector for Scikit-learn estimators.\n",
    "    \"\"\"\n",
    "\n",
    "    def __init__(self, estimator, reduced_feature_size=1, use_cross_val=True):\n",
    "        self.estimator = estimator\n",
    "        self.use_cross_val = use_cross_val\n",
    "        self.reduced_feature_size = reduced_feature_size\n",
    "        self.best_features_ = []\n",
    "\n",
    "    def fit(self, X, y):\n",
    "        \"\"\"Finds a reduced set of features that results in the highest accuracy.\n",
    "        Sequentially removes the available features, evaluates the model\n",
    "        accuracy the all the possible combinations\n",
    "        of the reduced feature subspace and keeps the best(highest accuracy)\n",
    "        combination of features for each reduced feature size.\n",
    "\n",
    "        Parameters\n",
    "        ----------\n",
    "        X : Numpy array\n",
    "        y : Numpy array\n",
    "\n",
    "        Returns\n",
    "        -------\n",
    "         None\n",
    "        \"\"\"\n",
    "\n",
    "        feature_size = X.shape[1]\n",
    "        keep_features = range(feature_size)\n",
    "\n",
    "        while feature_size >= self.reduced_feature_size:\n",
    "            best_feature_combination = None\n",
    "            best_score = 0\n",
    "\n",
    "            for feature_combination in combinations(keep_features, feature_size):\n",
    "                score = self._score(X, y, feature_combination)\n",
    "                if score > best_score:\n",
    "                    best_score = score\n",
    "                    best_feature_combination = feature_combination\n",
    "\n",
    "            keep_features = best_feature_combination\n",
    "            self._save_score(feature_size, best_score, best_feature_combination)\n",
    "            feature_size -= 1\n",
    "\n",
    "    def _score(self, X, y, selected_feature_indexes):\n",
    "        if self.use_cross_val:\n",
    "            score = cross_val_score(self.estimator, X[:, selected_feature_indexes], y).mean()\n",
    "        else:\n",
    "            self.estimator.fit(X[:, selected_feature_indexes], y)\n",
    "            score = self.estimator.score(X[:, selected_feature_indexes], y)\n",
    "        return score\n",
    "\n",
    "    def _save_score(self, num_features, best_score, best_feature_combination):\n",
    "        self.best_features_.append({\n",
    "            'featureSize': num_features,\n",
    "            'score': best_score,\n",
    "            'features': best_feature_combination\n",
    "        })\n"
   ]
  },
  {
   "cell_type": "markdown",
   "metadata": {},
   "source": [
    "## Example\n",
    "\n",
    "Here we are gonna try this on the wines dataset that initially has 13 features. We are going to fit an unregulated estimator , KNearestNeighbourhood from sklearn. Due to a high number of features and relatively small number of samples 178, there is a high change that the model would overfit. We will then try to sue Sequential Backward selection to find the best possible subset of features that result in higher accuracy."
   ]
  },
  {
   "cell_type": "markdown",
   "metadata": {},
   "source": [
    "### Data Preparation\n",
    "We load the data from the UCI machine learning repository (https://archive.ics.uci.edu/ml/datasets/Wine);\n",
    "it has 178 examples with 13 features."
   ]
  },
  {
   "cell_type": "code",
   "execution_count": 38,
   "metadata": {},
   "outputs": [],
   "source": [
    "import pandas as pd\n",
    "from sklearn.model_selection import train_test_split\n",
    "from sklearn.preprocessing import StandardScaler\n",
    "from sklearn.neighbors import KNeighborsClassifier"
   ]
  },
  {
   "cell_type": "code",
   "execution_count": 39,
   "metadata": {},
   "outputs": [
    {
     "data": {
      "text/html": [
       "<div>\n",
       "<style scoped>\n",
       "    .dataframe tbody tr th:only-of-type {\n",
       "        vertical-align: middle;\n",
       "    }\n",
       "\n",
       "    .dataframe tbody tr th {\n",
       "        vertical-align: top;\n",
       "    }\n",
       "\n",
       "    .dataframe thead th {\n",
       "        text-align: right;\n",
       "    }\n",
       "</style>\n",
       "<table border=\"1\" class=\"dataframe\">\n",
       "  <thead>\n",
       "    <tr style=\"text-align: right;\">\n",
       "      <th></th>\n",
       "      <th>Class label</th>\n",
       "      <th>Alcohol</th>\n",
       "      <th>Malic acid</th>\n",
       "      <th>Ash</th>\n",
       "      <th>Alcalinity of ash</th>\n",
       "      <th>Magnesium</th>\n",
       "      <th>Total phenols</th>\n",
       "      <th>Flavanoids</th>\n",
       "      <th>Nonflavanoid phenols</th>\n",
       "      <th>Proanthocyanins</th>\n",
       "      <th>Color intensity</th>\n",
       "      <th>Hue</th>\n",
       "      <th>OD280/OD315 of diluted wines</th>\n",
       "      <th>Proline</th>\n",
       "    </tr>\n",
       "  </thead>\n",
       "  <tbody>\n",
       "    <tr>\n",
       "      <td>0</td>\n",
       "      <td>1</td>\n",
       "      <td>14.23</td>\n",
       "      <td>1.71</td>\n",
       "      <td>2.43</td>\n",
       "      <td>15.6</td>\n",
       "      <td>127</td>\n",
       "      <td>2.80</td>\n",
       "      <td>3.06</td>\n",
       "      <td>0.28</td>\n",
       "      <td>2.29</td>\n",
       "      <td>5.64</td>\n",
       "      <td>1.04</td>\n",
       "      <td>3.92</td>\n",
       "      <td>1065</td>\n",
       "    </tr>\n",
       "    <tr>\n",
       "      <td>1</td>\n",
       "      <td>1</td>\n",
       "      <td>13.20</td>\n",
       "      <td>1.78</td>\n",
       "      <td>2.14</td>\n",
       "      <td>11.2</td>\n",
       "      <td>100</td>\n",
       "      <td>2.65</td>\n",
       "      <td>2.76</td>\n",
       "      <td>0.26</td>\n",
       "      <td>1.28</td>\n",
       "      <td>4.38</td>\n",
       "      <td>1.05</td>\n",
       "      <td>3.40</td>\n",
       "      <td>1050</td>\n",
       "    </tr>\n",
       "    <tr>\n",
       "      <td>2</td>\n",
       "      <td>1</td>\n",
       "      <td>13.16</td>\n",
       "      <td>2.36</td>\n",
       "      <td>2.67</td>\n",
       "      <td>18.6</td>\n",
       "      <td>101</td>\n",
       "      <td>2.80</td>\n",
       "      <td>3.24</td>\n",
       "      <td>0.30</td>\n",
       "      <td>2.81</td>\n",
       "      <td>5.68</td>\n",
       "      <td>1.03</td>\n",
       "      <td>3.17</td>\n",
       "      <td>1185</td>\n",
       "    </tr>\n",
       "    <tr>\n",
       "      <td>3</td>\n",
       "      <td>1</td>\n",
       "      <td>14.37</td>\n",
       "      <td>1.95</td>\n",
       "      <td>2.50</td>\n",
       "      <td>16.8</td>\n",
       "      <td>113</td>\n",
       "      <td>3.85</td>\n",
       "      <td>3.49</td>\n",
       "      <td>0.24</td>\n",
       "      <td>2.18</td>\n",
       "      <td>7.80</td>\n",
       "      <td>0.86</td>\n",
       "      <td>3.45</td>\n",
       "      <td>1480</td>\n",
       "    </tr>\n",
       "    <tr>\n",
       "      <td>4</td>\n",
       "      <td>1</td>\n",
       "      <td>13.24</td>\n",
       "      <td>2.59</td>\n",
       "      <td>2.87</td>\n",
       "      <td>21.0</td>\n",
       "      <td>118</td>\n",
       "      <td>2.80</td>\n",
       "      <td>2.69</td>\n",
       "      <td>0.39</td>\n",
       "      <td>1.82</td>\n",
       "      <td>4.32</td>\n",
       "      <td>1.04</td>\n",
       "      <td>2.93</td>\n",
       "      <td>735</td>\n",
       "    </tr>\n",
       "  </tbody>\n",
       "</table>\n",
       "</div>"
      ],
      "text/plain": [
       "   Class label  Alcohol  Malic acid   Ash  Alcalinity of ash  Magnesium  \\\n",
       "0            1    14.23        1.71  2.43               15.6        127   \n",
       "1            1    13.20        1.78  2.14               11.2        100   \n",
       "2            1    13.16        2.36  2.67               18.6        101   \n",
       "3            1    14.37        1.95  2.50               16.8        113   \n",
       "4            1    13.24        2.59  2.87               21.0        118   \n",
       "\n",
       "   Total phenols  Flavanoids  Nonflavanoid phenols  Proanthocyanins  \\\n",
       "0           2.80        3.06                  0.28             2.29   \n",
       "1           2.65        2.76                  0.26             1.28   \n",
       "2           2.80        3.24                  0.30             2.81   \n",
       "3           3.85        3.49                  0.24             2.18   \n",
       "4           2.80        2.69                  0.39             1.82   \n",
       "\n",
       "   Color intensity   Hue  OD280/OD315 of diluted wines  Proline  \n",
       "0             5.64  1.04                          3.92     1065  \n",
       "1             4.38  1.05                          3.40     1050  \n",
       "2             5.68  1.03                          3.17     1185  \n",
       "3             7.80  0.86                          3.45     1480  \n",
       "4             4.32  1.04                          2.93      735  "
      ]
     },
     "execution_count": 39,
     "metadata": {},
     "output_type": "execute_result"
    }
   ],
   "source": [
    "df = pd.read_csv(\n",
    "'https://archive.ics.uci.edu/ml/'\n",
    "'machine-learning-databases/wine/wine.data',\n",
    "header=None)\n",
    "df.columns = ['Class label', 'Alcohol',\n",
    "'Malic acid', 'Ash',\n",
    "'Alcalinity of ash', 'Magnesium',\n",
    " 'Total phenols', 'Flavanoids',\n",
    " 'Nonflavanoid phenols',\n",
    " 'Proanthocyanins',\n",
    " 'Color intensity', 'Hue',\n",
    " 'OD280/OD315 of diluted wines',\n",
    " 'Proline']\n",
    "df.head()"
   ]
  },
  {
   "cell_type": "code",
   "execution_count": 43,
   "metadata": {},
   "outputs": [],
   "source": [
    "X=df.iloc[:,1:]\n",
    "y=df.iloc[:,0]\n",
    "X_train,X_test,y_train,y_test=train_test_split(X,y,test_size=0.3, stratify=y , random_state=2,shuffle=True)\n",
    "sc=StandardScaler()\n",
    "sc.fit(X_train)\n",
    "X_train_s=sc.transform(X_train)\n",
    "X_test_s=sc.transform(X_test)"
   ]
  },
  {
   "cell_type": "markdown",
   "metadata": {},
   "source": [
    "## Backward Feature selection\n",
    "Let's reduce the feature space from 13 to 1 and see how the accuracy changes in each reduced feature space."
   ]
  },
  {
   "cell_type": "code",
   "execution_count": 44,
   "metadata": {
    "scrolled": false
   },
   "outputs": [],
   "source": [
    "%%capture\n",
    "knn = KNeighborsClassifier(n_neighbors=10, p=2, n_jobs=4)\n",
    "sbs = SequentialBackwardSelector(estimator=knn, reduced_feature_size=1, use_cross_val=True)\n",
    "sbs.fit(X_train_s, y_train)"
   ]
  },
  {
   "cell_type": "markdown",
   "metadata": {},
   "source": [
    "The best_features_ property of the SequnetialBackwardSelector object provides a list of best score and their corresponding feature indexes at each reduced feature subspace. "
   ]
  },
  {
   "cell_type": "code",
   "execution_count": 42,
   "metadata": {},
   "outputs": [
    {
     "data": {
      "text/plain": [
       "[{'featureSize': 13,\n",
       "  'score': 0.959920634920635,\n",
       "  'features': (0, 1, 2, 3, 4, 5, 6, 7, 8, 9, 10, 11, 12)},\n",
       " {'featureSize': 12,\n",
       "  'score': 0.9678571428571429,\n",
       "  'features': (0, 1, 2, 3, 4, 5, 6, 7, 9, 10, 11, 12)},\n",
       " {'featureSize': 11,\n",
       "  'score': 0.9837301587301588,\n",
       "  'features': (0, 1, 2, 3, 5, 6, 7, 9, 10, 11, 12)},\n",
       " {'featureSize': 10,\n",
       "  'score': 0.9841269841269842,\n",
       "  'features': (0, 1, 2, 3, 5, 6, 7, 9, 11, 12)},\n",
       " {'featureSize': 9,\n",
       "  'score': 0.9841269841269842,\n",
       "  'features': (0, 1, 2, 3, 5, 7, 9, 11, 12)},\n",
       " {'featureSize': 8,\n",
       "  'score': 0.9761904761904762,\n",
       "  'features': (0, 1, 2, 3, 5, 7, 9, 11)},\n",
       " {'featureSize': 7,\n",
       "  'score': 0.9761904761904762,\n",
       "  'features': (0, 1, 2, 3, 5, 9, 11)},\n",
       " {'featureSize': 6,\n",
       "  'score': 0.9761904761904762,\n",
       "  'features': (0, 1, 3, 5, 9, 11)},\n",
       " {'featureSize': 5, 'score': 0.9678571428571429, 'features': (0, 3, 5, 9, 11)},\n",
       " {'featureSize': 4, 'score': 0.959920634920635, 'features': (0, 3, 9, 11)},\n",
       " {'featureSize': 3, 'score': 0.9511904761904763, 'features': (0, 9, 11)},\n",
       " {'featureSize': 2, 'score': 0.9194444444444444, 'features': (0, 11)},\n",
       " {'featureSize': 1, 'score': 0.7178571428571429, 'features': (0,)}]"
      ]
     },
     "execution_count": 42,
     "metadata": {},
     "output_type": "execute_result"
    }
   ],
   "source": [
    "sbs.best_features_"
   ]
  },
  {
   "cell_type": "markdown",
   "metadata": {},
   "source": [
    "### Plotting the results\n",
    "Plotting the results shows that the accuracy has indeed increased by reducing the feature space. This shows that the model were previously suffering from the overfitting and by removing the redundant features we have increased the cross-validation accuracy and generalization performance of the model.\n",
    "We can see that 6 features gives us the highest validation accuracy. Lets try to we what score we can get from over test set."
   ]
  },
  {
   "cell_type": "code",
   "execution_count": 45,
   "metadata": {},
   "outputs": [
    {
     "data": {
      "text/plain": [
       "[<matplotlib.lines.Line2D at 0x13722f310>]"
      ]
     },
     "execution_count": 45,
     "metadata": {},
     "output_type": "execute_result"
    },
    {
     "data": {
      "image/png": "[encoded data removed]",
      "text/plain": [
       "<Figure size 432x288 with 1 Axes>"
      ]
     },
     "metadata": {
      "needs_background": "light"
     },
     "output_type": "display_data"
    }
   ],
   "source": [
    "import matplotlib.pyplot as plt\n",
    "#Just creating two arrays from a dictionariy items\n",
    "num_features, scores = zip(*list(map(lambda x: [x['featureSize'], x['score']], sbs.best_features_)))\n",
    "plt.title('Variation of model accuracy vs number of features)')\n",
    "plt.xlabel('Feature size')\n",
    "plt.ylabel('Accuracy')\n",
    "plt.plot(num_features, scores)"
   ]
  },
  {
   "cell_type": "markdown",
   "metadata": {},
   "source": [
    "As you can see we were able to increase the training accuracy of our model from 0.95 to 0.992 and test accuracy from  to 0.98 . We achieved the higher accuracy despite using  half of the initial available features. This shows that we have reduced the overfitting and have increased the generalization performance of our model."
   ]
  }
 ],
 "metadata": {
  "kernelspec": {
   "display_name": "Python 3",
   "language": "python",
   "name": "python3"
  },
  "language_info": {
   "codemirror_mode": {
    "name": "ipython",
    "version": 3
   },
   "file_extension": ".py",
   "mimetype": "text/x-python",
   "name": "python",
   "nbconvert_exporter": "python",
   "pygments_lexer": "ipython3",
   "version": "3.7.7"
  }
 },
 "nbformat": 4,
 "nbformat_minor": 2
}
